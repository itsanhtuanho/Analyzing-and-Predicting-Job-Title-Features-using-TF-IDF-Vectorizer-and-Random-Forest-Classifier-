{
 "cells": [
  {
   "cell_type": "code",
   "execution_count": 1,
   "id": "274f70fc",
   "metadata": {
    "scrolled": true
   },
   "outputs": [],
   "source": [
    "import pandas as pd\n",
    "import numpy as np\n",
    "import re\n",
    "import string"
   ]
  },
  {
   "cell_type": "code",
   "execution_count": 2,
   "id": "917cf726",
   "metadata": {
    "scrolled": false
   },
   "outputs": [],
   "source": [
    "df = pd.read_csv('Historical Lead Records.csv', encoding='utf-8')"
   ]
  },
  {
   "cell_type": "code",
   "execution_count": 3,
   "id": "c6b3715d",
   "metadata": {},
   "outputs": [
    {
     "data": {
      "text/html": [
       "<div>\n",
       "<style scoped>\n",
       "    .dataframe tbody tr th:only-of-type {\n",
       "        vertical-align: middle;\n",
       "    }\n",
       "\n",
       "    .dataframe tbody tr th {\n",
       "        vertical-align: top;\n",
       "    }\n",
       "\n",
       "    .dataframe thead th {\n",
       "        text-align: right;\n",
       "    }\n",
       "</style>\n",
       "<table border=\"1\" class=\"dataframe\">\n",
       "  <thead>\n",
       "    <tr style=\"text-align: right;\">\n",
       "      <th></th>\n",
       "      <th>Campaign Member ID (18)</th>\n",
       "      <th>Title</th>\n",
       "      <th>Job Role</th>\n",
       "      <th>Job Function</th>\n",
       "      <th>Job Level</th>\n",
       "    </tr>\n",
       "  </thead>\n",
       "  <tbody>\n",
       "    <tr>\n",
       "      <th>0</th>\n",
       "      <td>00v0z00002h63gzAAA</td>\n",
       "      <td>Principal, Cybersecurity &amp; Privacy</td>\n",
       "      <td>Information Security</td>\n",
       "      <td>IT</td>\n",
       "      <td>Manager</td>\n",
       "    </tr>\n",
       "    <tr>\n",
       "      <th>1</th>\n",
       "      <td>00v0z00002t3jwQAAQ</td>\n",
       "      <td>Senior Enterprise Infrastructure Architect</td>\n",
       "      <td>Networking</td>\n",
       "      <td>IT</td>\n",
       "      <td>Contributor</td>\n",
       "    </tr>\n",
       "    <tr>\n",
       "      <th>2</th>\n",
       "      <td>00v0z00002uUCK3AAO</td>\n",
       "      <td>Risk Consultant</td>\n",
       "      <td>Information Security</td>\n",
       "      <td>IT</td>\n",
       "      <td>Contributor</td>\n",
       "    </tr>\n",
       "    <tr>\n",
       "      <th>3</th>\n",
       "      <td>00v0z00002uY8mmAAC</td>\n",
       "      <td>Technical Cloud Architect</td>\n",
       "      <td>Networking</td>\n",
       "      <td>IT</td>\n",
       "      <td>Contributor</td>\n",
       "    </tr>\n",
       "    <tr>\n",
       "      <th>4</th>\n",
       "      <td>00v0z000037bov2AAA</td>\n",
       "      <td>Senior Advanced Systems Engineer</td>\n",
       "      <td>Development</td>\n",
       "      <td>Engineering</td>\n",
       "      <td>Contributor</td>\n",
       "    </tr>\n",
       "  </tbody>\n",
       "</table>\n",
       "</div>"
      ],
      "text/plain": [
       "  Campaign Member ID (18)                                       Title  \\\n",
       "0      00v0z00002h63gzAAA          Principal, Cybersecurity & Privacy   \n",
       "1      00v0z00002t3jwQAAQ  Senior Enterprise Infrastructure Architect   \n",
       "2      00v0z00002uUCK3AAO                             Risk Consultant   \n",
       "3      00v0z00002uY8mmAAC                   Technical Cloud Architect   \n",
       "4      00v0z000037bov2AAA            Senior Advanced Systems Engineer   \n",
       "\n",
       "               Job Role Job Function    Job Level  \n",
       "0  Information Security           IT      Manager  \n",
       "1            Networking           IT  Contributor  \n",
       "2  Information Security           IT  Contributor  \n",
       "3            Networking           IT  Contributor  \n",
       "4           Development  Engineering  Contributor  "
      ]
     },
     "execution_count": 3,
     "metadata": {},
     "output_type": "execute_result"
    }
   ],
   "source": [
    "df.head()"
   ]
  },
  {
   "cell_type": "markdown",
   "id": "a0329e6a",
   "metadata": {},
   "source": [
    "#### Total rows"
   ]
  },
  {
   "cell_type": "code",
   "execution_count": 4,
   "id": "d8be67c1",
   "metadata": {
    "scrolled": true
   },
   "outputs": [
    {
     "data": {
      "text/plain": [
       "865671"
      ]
     },
     "execution_count": 4,
     "metadata": {},
     "output_type": "execute_result"
    }
   ],
   "source": [
    "len(df)"
   ]
  },
  {
   "cell_type": "markdown",
   "id": "c426afe3",
   "metadata": {},
   "source": [
    "## Drop"
   ]
  },
  {
   "cell_type": "code",
   "execution_count": 5,
   "id": "8f662fa9",
   "metadata": {},
   "outputs": [
    {
     "data": {
      "text/html": [
       "<div>\n",
       "<style scoped>\n",
       "    .dataframe tbody tr th:only-of-type {\n",
       "        vertical-align: middle;\n",
       "    }\n",
       "\n",
       "    .dataframe tbody tr th {\n",
       "        vertical-align: top;\n",
       "    }\n",
       "\n",
       "    .dataframe thead th {\n",
       "        text-align: right;\n",
       "    }\n",
       "</style>\n",
       "<table border=\"1\" class=\"dataframe\">\n",
       "  <thead>\n",
       "    <tr style=\"text-align: right;\">\n",
       "      <th></th>\n",
       "      <th>Campaign Member ID (18)</th>\n",
       "      <th>Title</th>\n",
       "      <th>Job Role</th>\n",
       "      <th>Job Function</th>\n",
       "      <th>Job Level</th>\n",
       "    </tr>\n",
       "  </thead>\n",
       "  <tbody>\n",
       "    <tr>\n",
       "      <th>44</th>\n",
       "      <td>00v4X000041GOOxQAO</td>\n",
       "      <td>NaN</td>\n",
       "      <td>Non-IT</td>\n",
       "      <td>Unknown</td>\n",
       "      <td>NaN</td>\n",
       "    </tr>\n",
       "    <tr>\n",
       "      <th>98</th>\n",
       "      <td>00v4X000041HBvbQAG</td>\n",
       "      <td>NaN</td>\n",
       "      <td>Non-IT</td>\n",
       "      <td>Unknown</td>\n",
       "      <td>NaN</td>\n",
       "    </tr>\n",
       "    <tr>\n",
       "      <th>152</th>\n",
       "      <td>00v4X000041HnN2QAK</td>\n",
       "      <td>NaN</td>\n",
       "      <td>Non-IT</td>\n",
       "      <td>Marketing</td>\n",
       "      <td>NaN</td>\n",
       "    </tr>\n",
       "    <tr>\n",
       "      <th>173</th>\n",
       "      <td>00v4X00004G6k0dQAB</td>\n",
       "      <td>Global It Manager, Infrastructure &amp; Operations</td>\n",
       "      <td>Information Security</td>\n",
       "      <td>IT</td>\n",
       "      <td>NaN</td>\n",
       "    </tr>\n",
       "    <tr>\n",
       "      <th>182</th>\n",
       "      <td>00v4X00003xeQA4QAM</td>\n",
       "      <td>NaN</td>\n",
       "      <td>Non-IT</td>\n",
       "      <td>Other</td>\n",
       "      <td>NaN</td>\n",
       "    </tr>\n",
       "    <tr>\n",
       "      <th>...</th>\n",
       "      <td>...</td>\n",
       "      <td>...</td>\n",
       "      <td>...</td>\n",
       "      <td>...</td>\n",
       "      <td>...</td>\n",
       "    </tr>\n",
       "    <tr>\n",
       "      <th>865490</th>\n",
       "      <td>00v6000002B55wFAAR</td>\n",
       "      <td>Mgr Emr</td>\n",
       "      <td>None Technical</td>\n",
       "      <td>NaN</td>\n",
       "      <td>Manager</td>\n",
       "    </tr>\n",
       "    <tr>\n",
       "      <th>865526</th>\n",
       "      <td>00v6000002I9OlsAAF</td>\n",
       "      <td>NaN</td>\n",
       "      <td>Non-IT</td>\n",
       "      <td>Unknown</td>\n",
       "      <td>NaN</td>\n",
       "    </tr>\n",
       "    <tr>\n",
       "      <th>865532</th>\n",
       "      <td>00v6000002I9OmWAAV</td>\n",
       "      <td>NaN</td>\n",
       "      <td>NaN</td>\n",
       "      <td>Unknown</td>\n",
       "      <td>NaN</td>\n",
       "    </tr>\n",
       "    <tr>\n",
       "      <th>865571</th>\n",
       "      <td>00v6000002GLJV6AAP</td>\n",
       "      <td>Client Director, Major Accounts</td>\n",
       "      <td>None Technical</td>\n",
       "      <td>Services</td>\n",
       "      <td>NaN</td>\n",
       "    </tr>\n",
       "    <tr>\n",
       "      <th>865582</th>\n",
       "      <td>00v6000002GLJIOAA5</td>\n",
       "      <td>Risk  Manager for POV</td>\n",
       "      <td>Information Security</td>\n",
       "      <td>IT</td>\n",
       "      <td>NaN</td>\n",
       "    </tr>\n",
       "  </tbody>\n",
       "</table>\n",
       "<p>30321 rows × 5 columns</p>\n",
       "</div>"
      ],
      "text/plain": [
       "       Campaign Member ID (18)  \\\n",
       "44          00v4X000041GOOxQAO   \n",
       "98          00v4X000041HBvbQAG   \n",
       "152         00v4X000041HnN2QAK   \n",
       "173         00v4X00004G6k0dQAB   \n",
       "182         00v4X00003xeQA4QAM   \n",
       "...                        ...   \n",
       "865490      00v6000002B55wFAAR   \n",
       "865526      00v6000002I9OlsAAF   \n",
       "865532      00v6000002I9OmWAAV   \n",
       "865571      00v6000002GLJV6AAP   \n",
       "865582      00v6000002GLJIOAA5   \n",
       "\n",
       "                                                 Title              Job Role  \\\n",
       "44                                                 NaN                Non-IT   \n",
       "98                                                 NaN                Non-IT   \n",
       "152                                                NaN                Non-IT   \n",
       "173     Global It Manager, Infrastructure & Operations  Information Security   \n",
       "182                                                NaN                Non-IT   \n",
       "...                                                ...                   ...   \n",
       "865490                                         Mgr Emr        None Technical   \n",
       "865526                                             NaN                Non-IT   \n",
       "865532                                             NaN                   NaN   \n",
       "865571                 Client Director, Major Accounts        None Technical   \n",
       "865582                           Risk  Manager for POV  Information Security   \n",
       "\n",
       "       Job Function Job Level  \n",
       "44          Unknown       NaN  \n",
       "98          Unknown       NaN  \n",
       "152       Marketing       NaN  \n",
       "173              IT       NaN  \n",
       "182           Other       NaN  \n",
       "...             ...       ...  \n",
       "865490          NaN   Manager  \n",
       "865526      Unknown       NaN  \n",
       "865532      Unknown       NaN  \n",
       "865571     Services       NaN  \n",
       "865582           IT       NaN  \n",
       "\n",
       "[30321 rows x 5 columns]"
      ]
     },
     "execution_count": 5,
     "metadata": {},
     "output_type": "execute_result"
    }
   ],
   "source": [
    "df[df.isnull().any(axis=1)]"
   ]
  },
  {
   "cell_type": "code",
   "execution_count": 6,
   "id": "0fc888c6",
   "metadata": {
    "scrolled": true
   },
   "outputs": [],
   "source": [
    "df.dropna(inplace=True)\n",
    "df.reset_index(drop=True, inplace=True)"
   ]
  },
  {
   "cell_type": "code",
   "execution_count": 7,
   "id": "c707b8f1",
   "metadata": {
    "scrolled": true
   },
   "outputs": [
    {
     "data": {
      "text/plain": [
       "835350"
      ]
     },
     "execution_count": 7,
     "metadata": {},
     "output_type": "execute_result"
    }
   ],
   "source": [
    "len(df)"
   ]
  },
  {
   "cell_type": "code",
   "execution_count": 8,
   "id": "32827b1e",
   "metadata": {
    "scrolled": true
   },
   "outputs": [
    {
     "data": {
      "text/html": [
       "<div>\n",
       "<style scoped>\n",
       "    .dataframe tbody tr th:only-of-type {\n",
       "        vertical-align: middle;\n",
       "    }\n",
       "\n",
       "    .dataframe tbody tr th {\n",
       "        vertical-align: top;\n",
       "    }\n",
       "\n",
       "    .dataframe thead th {\n",
       "        text-align: right;\n",
       "    }\n",
       "</style>\n",
       "<table border=\"1\" class=\"dataframe\">\n",
       "  <thead>\n",
       "    <tr style=\"text-align: right;\">\n",
       "      <th></th>\n",
       "      <th>Campaign Member ID (18)</th>\n",
       "      <th>Title</th>\n",
       "      <th>Job Role</th>\n",
       "      <th>Job Function</th>\n",
       "      <th>Job Level</th>\n",
       "    </tr>\n",
       "  </thead>\n",
       "  <tbody>\n",
       "    <tr>\n",
       "      <th>1161</th>\n",
       "      <td>00v0z00002RON1YAAX</td>\n",
       "      <td>IT Project Manager – Health Dept</td>\n",
       "      <td>Information Security</td>\n",
       "      <td>IT</td>\n",
       "      <td>Manager</td>\n",
       "    </tr>\n",
       "    <tr>\n",
       "      <th>2094</th>\n",
       "      <td>00v4X00004QJ2ECQA1</td>\n",
       "      <td>Senior Manager, Governance Risk &amp; Compliance</td>\n",
       "      <td>Governance Risk Compliance</td>\n",
       "      <td>IT</td>\n",
       "      <td>Manager</td>\n",
       "    </tr>\n",
       "    <tr>\n",
       "      <th>2163</th>\n",
       "      <td>00v0z00002UftIjAAJ</td>\n",
       "      <td>IT Security Compliance Supervisorﾊ</td>\n",
       "      <td>Governance Risk Compliance</td>\n",
       "      <td>IT</td>\n",
       "      <td>Manager</td>\n",
       "    </tr>\n",
       "    <tr>\n",
       "      <th>2903</th>\n",
       "      <td>00v0z00002uUCOtAAO</td>\n",
       "      <td>Data Security Consultant I</td>\n",
       "      <td>Information Security</td>\n",
       "      <td>IT</td>\n",
       "      <td>Contributor</td>\n",
       "    </tr>\n",
       "    <tr>\n",
       "      <th>4295</th>\n",
       "      <td>00v0z00002h7O0wAAE</td>\n",
       "      <td>Director – Global Information Security – Archi...</td>\n",
       "      <td>Networking</td>\n",
       "      <td>Engineering</td>\n",
       "      <td>Director</td>\n",
       "    </tr>\n",
       "    <tr>\n",
       "      <th>4672</th>\n",
       "      <td>00v4X00003mmwWzQAI</td>\n",
       "      <td>Chief Technology Officer</td>\n",
       "      <td>IT General</td>\n",
       "      <td>IT</td>\n",
       "      <td>Executive</td>\n",
       "    </tr>\n",
       "    <tr>\n",
       "      <th>5050</th>\n",
       "      <td>00v4X00004AkTdnQAF</td>\n",
       "      <td>Geschäftsführer</td>\n",
       "      <td>IT General</td>\n",
       "      <td>Management</td>\n",
       "      <td>Executive</td>\n",
       "    </tr>\n",
       "    <tr>\n",
       "      <th>5189</th>\n",
       "      <td>00v4X000042UiVYQA0</td>\n",
       "      <td>Ciso�</td>\n",
       "      <td>Information Security</td>\n",
       "      <td>IT</td>\n",
       "      <td>C-Level</td>\n",
       "    </tr>\n",
       "    <tr>\n",
       "      <th>5212</th>\n",
       "      <td>00v4X00003mmwYAQAY</td>\n",
       "      <td>Chief Operations Officer</td>\n",
       "      <td>None Technical</td>\n",
       "      <td>Operations</td>\n",
       "      <td>C-Level</td>\n",
       "    </tr>\n",
       "    <tr>\n",
       "      <th>6789</th>\n",
       "      <td>00v4X00003mmwbsQAA</td>\n",
       "      <td>Technology  Business Consultant</td>\n",
       "      <td>None Technical</td>\n",
       "      <td>Services</td>\n",
       "      <td>Contributor</td>\n",
       "    </tr>\n",
       "    <tr>\n",
       "      <th>8850</th>\n",
       "      <td>00v4X00004G7wItQAJ</td>\n",
       "      <td>Ciso�</td>\n",
       "      <td>Information Security</td>\n",
       "      <td>IT</td>\n",
       "      <td>C-Level</td>\n",
       "    </tr>\n",
       "    <tr>\n",
       "      <th>9770</th>\n",
       "      <td>00v4X00004OlleyQAB</td>\n",
       "      <td>Senior Vice President, Cio � Us</td>\n",
       "      <td>Information Security</td>\n",
       "      <td>IT</td>\n",
       "      <td>Director</td>\n",
       "    </tr>\n",
       "    <tr>\n",
       "      <th>10498</th>\n",
       "      <td>00v0z00002UgP3oAAF</td>\n",
       "      <td>Director – Global Information Security – Archi...</td>\n",
       "      <td>Networking</td>\n",
       "      <td>Engineering</td>\n",
       "      <td>Director</td>\n",
       "    </tr>\n",
       "    <tr>\n",
       "      <th>10615</th>\n",
       "      <td>00v4X00003mmwk9QAA</td>\n",
       "      <td>Director Office of Information and Communicati...</td>\n",
       "      <td>Networking</td>\n",
       "      <td>IT</td>\n",
       "      <td>Director</td>\n",
       "    </tr>\n",
       "    <tr>\n",
       "      <th>11940</th>\n",
       "      <td>00v0z00002VThMlAAL</td>\n",
       "      <td>Senior Vice President‚ Global Security</td>\n",
       "      <td>Information Security</td>\n",
       "      <td>IT</td>\n",
       "      <td>Executive</td>\n",
       "    </tr>\n",
       "    <tr>\n",
       "      <th>12027</th>\n",
       "      <td>00v4X00004OllfBQAR</td>\n",
       "      <td>Director � Information Security Risk Oversight</td>\n",
       "      <td>Networking</td>\n",
       "      <td>IT</td>\n",
       "      <td>Director</td>\n",
       "    </tr>\n",
       "    <tr>\n",
       "      <th>12918</th>\n",
       "      <td>00v4X00003mmwnVQAQ</td>\n",
       "      <td>Chief Information Officer</td>\n",
       "      <td>Information Security</td>\n",
       "      <td>IT</td>\n",
       "      <td>C-Level</td>\n",
       "    </tr>\n",
       "    <tr>\n",
       "      <th>13042</th>\n",
       "      <td>00v0z00002dGtUCAA0</td>\n",
       "      <td>Director Ð IT Client Services (EUS)</td>\n",
       "      <td>IT General</td>\n",
       "      <td>IT</td>\n",
       "      <td>Director</td>\n",
       "    </tr>\n",
       "    <tr>\n",
       "      <th>13566</th>\n",
       "      <td>00v4X00004OkK74QAF</td>\n",
       "      <td>Global Digital Transformation Leader, Cloud St...</td>\n",
       "      <td>Information Security</td>\n",
       "      <td>IT</td>\n",
       "      <td>Manager</td>\n",
       "    </tr>\n",
       "    <tr>\n",
       "      <th>13982</th>\n",
       "      <td>00v4X00003mmwiqQAA</td>\n",
       "      <td>Chief Cyber Security Risk Officer</td>\n",
       "      <td>Information Security</td>\n",
       "      <td>IT</td>\n",
       "      <td>C-Level</td>\n",
       "    </tr>\n",
       "    <tr>\n",
       "      <th>14494</th>\n",
       "      <td>00v4X00003mmwKsQAI</td>\n",
       "      <td>Deputy Commissioner</td>\n",
       "      <td>Information Security</td>\n",
       "      <td>IT</td>\n",
       "      <td>Contributor</td>\n",
       "    </tr>\n",
       "    <tr>\n",
       "      <th>14707</th>\n",
       "      <td>00v4X000042UKJQQA4</td>\n",
       "      <td>Vice President-Dis ? Mobile Healthcare ¦ Nucle...</td>\n",
       "      <td>Networking</td>\n",
       "      <td>Medical</td>\n",
       "      <td>Executive</td>\n",
       "    </tr>\n",
       "    <tr>\n",
       "      <th>15166</th>\n",
       "      <td>00v0z000030jbFxAAI</td>\n",
       "      <td>ÆÃ²Information Security, Risk Management</td>\n",
       "      <td>Information Security</td>\n",
       "      <td>IT</td>\n",
       "      <td>Manager</td>\n",
       "    </tr>\n",
       "    <tr>\n",
       "      <th>17861</th>\n",
       "      <td>00v4X00003sjPnWQAU</td>\n",
       "      <td>Regional Sales Director â€“ Majors</td>\n",
       "      <td>None Technical</td>\n",
       "      <td>Sales</td>\n",
       "      <td>Director</td>\n",
       "    </tr>\n",
       "    <tr>\n",
       "      <th>19184</th>\n",
       "      <td>00v4X0000469fN0QAI</td>\n",
       "      <td>Cyber System Operatorﾊ</td>\n",
       "      <td>Systems</td>\n",
       "      <td>IT</td>\n",
       "      <td>Contributor</td>\n",
       "    </tr>\n",
       "    <tr>\n",
       "      <th>19376</th>\n",
       "      <td>00v0z00002t3kQHAAY</td>\n",
       "      <td>ANALISTA DE SEGURAN�?àA</td>\n",
       "      <td>Information Security</td>\n",
       "      <td>IT</td>\n",
       "      <td>Contributor</td>\n",
       "    </tr>\n",
       "    <tr>\n",
       "      <th>19912</th>\n",
       "      <td>00v4X00004NVGeEQAX</td>\n",
       "      <td>Director â It Infrastructure Shared Services A...</td>\n",
       "      <td>Networking</td>\n",
       "      <td>IT</td>\n",
       "      <td>Director</td>\n",
       "    </tr>\n",
       "    <tr>\n",
       "      <th>21348</th>\n",
       "      <td>00v4X000048sWhNQAU</td>\n",
       "      <td>Senior Manager, Governance Risk &amp; Compliance</td>\n",
       "      <td>Governance Risk Compliance</td>\n",
       "      <td>IT</td>\n",
       "      <td>Manager</td>\n",
       "    </tr>\n",
       "    <tr>\n",
       "      <th>21402</th>\n",
       "      <td>00v4X00004KptIcQAJ</td>\n",
       "      <td>Security &amp; Network Infrastructure – Team Manager</td>\n",
       "      <td>Networking</td>\n",
       "      <td>IT</td>\n",
       "      <td>Manager</td>\n",
       "    </tr>\n",
       "    <tr>\n",
       "      <th>22120</th>\n",
       "      <td>00v4X00004G7j09QAB</td>\n",
       "      <td>Director Information Technology – Project Mana...</td>\n",
       "      <td>Networking</td>\n",
       "      <td>IT</td>\n",
       "      <td>Director</td>\n",
       "    </tr>\n",
       "    <tr>\n",
       "      <th>28854</th>\n",
       "      <td>00v4X00003slDE0QAM</td>\n",
       "      <td>Vice President – Identity Operations, Governan...</td>\n",
       "      <td>Development</td>\n",
       "      <td>Engineering</td>\n",
       "      <td>Executive</td>\n",
       "    </tr>\n",
       "    <tr>\n",
       "      <th>29307</th>\n",
       "      <td>00v4X00004QJHQ5QAP</td>\n",
       "      <td>Manager Information Technology Security • Is G...</td>\n",
       "      <td>Information Security</td>\n",
       "      <td>IT</td>\n",
       "      <td>Manager</td>\n",
       "    </tr>\n",
       "    <tr>\n",
       "      <th>29659</th>\n",
       "      <td>00v4X00003mnlRdQAI</td>\n",
       "      <td>Information Security Director – Identity &amp; Acc...</td>\n",
       "      <td>Networking</td>\n",
       "      <td>IT</td>\n",
       "      <td>Manager</td>\n",
       "    </tr>\n",
       "    <tr>\n",
       "      <th>30850</th>\n",
       "      <td>00v0z000039NPDmAAO</td>\n",
       "      <td>Svp, Director Of Information Security � Identi...</td>\n",
       "      <td>Networking</td>\n",
       "      <td>IT</td>\n",
       "      <td>Executive</td>\n",
       "    </tr>\n",
       "    <tr>\n",
       "      <th>31253</th>\n",
       "      <td>00v4X00003mnlU1QAI</td>\n",
       "      <td>Information Security Director – Identity &amp; Acc...</td>\n",
       "      <td>Networking</td>\n",
       "      <td>IT</td>\n",
       "      <td>Manager</td>\n",
       "    </tr>\n",
       "    <tr>\n",
       "      <th>33537</th>\n",
       "      <td>00v4X0000469fmAQAQ</td>\n",
       "      <td>Health Information Technology Management</td>\n",
       "      <td>IT General</td>\n",
       "      <td>IT</td>\n",
       "      <td>Manager</td>\n",
       "    </tr>\n",
       "    <tr>\n",
       "      <th>33624</th>\n",
       "      <td>00v4X00003lBEfyQAG</td>\n",
       "      <td>Senior Analyst – Data Protection/Data Governance</td>\n",
       "      <td>Governance Risk Compliance</td>\n",
       "      <td>IT</td>\n",
       "      <td>Contributor</td>\n",
       "    </tr>\n",
       "    <tr>\n",
       "      <th>34059</th>\n",
       "      <td>00v0z00002uUDPCAA4</td>\n",
       "      <td>Business Operations, Cloud Computingæ</td>\n",
       "      <td>Networking</td>\n",
       "      <td>IT</td>\n",
       "      <td>Contributor</td>\n",
       "    </tr>\n",
       "    <tr>\n",
       "      <th>36116</th>\n",
       "      <td>00v4X0000469siLQAQ</td>\n",
       "      <td>Data Center Manager ‰ÛÒ IT Technical Operations</td>\n",
       "      <td>Operations</td>\n",
       "      <td>IT</td>\n",
       "      <td>Manager</td>\n",
       "    </tr>\n",
       "    <tr>\n",
       "      <th>36494</th>\n",
       "      <td>00v0z000039OAAoAAO</td>\n",
       "      <td>Director – Global Information Security – Archi...</td>\n",
       "      <td>Networking</td>\n",
       "      <td>Engineering</td>\n",
       "      <td>Director</td>\n",
       "    </tr>\n",
       "    <tr>\n",
       "      <th>37966</th>\n",
       "      <td>00v4X00003qikuYQAQ</td>\n",
       "      <td>Gerente De Distribuci√≥n</td>\n",
       "      <td>None Technical</td>\n",
       "      <td>Unknown</td>\n",
       "      <td>Executive</td>\n",
       "    </tr>\n",
       "    <tr>\n",
       "      <th>38342</th>\n",
       "      <td>00v0z00002t0dksAAA</td>\n",
       "      <td>Senior Director, Product Management – SD-WAN a...</td>\n",
       "      <td>Networking</td>\n",
       "      <td>IT</td>\n",
       "      <td>Director</td>\n",
       "    </tr>\n",
       "    <tr>\n",
       "      <th>41228</th>\n",
       "      <td>00v4X00003skvUYQAY</td>\n",
       "      <td>ネットワーク第三部_社員</td>\n",
       "      <td>None Technical</td>\n",
       "      <td>Unknown</td>\n",
       "      <td>Contributor</td>\n",
       "    </tr>\n",
       "    <tr>\n",
       "      <th>41254</th>\n",
       "      <td>00v4X00003skvUdQAI</td>\n",
       "      <td>ネットワーク第二部_社員</td>\n",
       "      <td>None Technical</td>\n",
       "      <td>Unknown</td>\n",
       "      <td>Contributor</td>\n",
       "    </tr>\n",
       "    <tr>\n",
       "      <th>41538</th>\n",
       "      <td>00v4X00004OjrPkQAJ</td>\n",
       "      <td>IT・企画部</td>\n",
       "      <td>None Technical</td>\n",
       "      <td>Sales</td>\n",
       "      <td>Contributor</td>\n",
       "    </tr>\n",
       "    <tr>\n",
       "      <th>42663</th>\n",
       "      <td>00v0z00002uUDhZAAW</td>\n",
       "      <td>Responsable Architecture &amp; Réseaux</td>\n",
       "      <td>Networking</td>\n",
       "      <td>IT</td>\n",
       "      <td>Manager</td>\n",
       "    </tr>\n",
       "    <tr>\n",
       "      <th>42805</th>\n",
       "      <td>00v4X00004OmaYTQAZ</td>\n",
       "      <td>Its � Technology Services Specialist</td>\n",
       "      <td>Information Security</td>\n",
       "      <td>IT</td>\n",
       "      <td>Contributor</td>\n",
       "    </tr>\n",
       "    <tr>\n",
       "      <th>44955</th>\n",
       "      <td>00v4X00004OkTPwQAN</td>\n",
       "      <td>SVP – Chief Information Security Officer</td>\n",
       "      <td>Information Security</td>\n",
       "      <td>IT</td>\n",
       "      <td>C-Level</td>\n",
       "    </tr>\n",
       "    <tr>\n",
       "      <th>45944</th>\n",
       "      <td>00v4X00003hSO81QAG</td>\n",
       "      <td>セキュリティ統括室一般社員・職員</td>\n",
       "      <td>None Technical</td>\n",
       "      <td>Operations</td>\n",
       "      <td>Contributor</td>\n",
       "    </tr>\n",
       "    <tr>\n",
       "      <th>46353</th>\n",
       "      <td>00v60000026RnnpAAC</td>\n",
       "      <td>Information Security Director – Identity &amp; Acc...</td>\n",
       "      <td>Networking</td>\n",
       "      <td>IT</td>\n",
       "      <td>Manager</td>\n",
       "    </tr>\n",
       "  </tbody>\n",
       "</table>\n",
       "</div>"
      ],
      "text/plain": [
       "      Campaign Member ID (18)  \\\n",
       "1161       00v0z00002RON1YAAX   \n",
       "2094       00v4X00004QJ2ECQA1   \n",
       "2163       00v0z00002UftIjAAJ   \n",
       "2903       00v0z00002uUCOtAAO   \n",
       "4295       00v0z00002h7O0wAAE   \n",
       "4672       00v4X00003mmwWzQAI   \n",
       "5050       00v4X00004AkTdnQAF   \n",
       "5189       00v4X000042UiVYQA0   \n",
       "5212       00v4X00003mmwYAQAY   \n",
       "6789       00v4X00003mmwbsQAA   \n",
       "8850       00v4X00004G7wItQAJ   \n",
       "9770       00v4X00004OlleyQAB   \n",
       "10498      00v0z00002UgP3oAAF   \n",
       "10615      00v4X00003mmwk9QAA   \n",
       "11940      00v0z00002VThMlAAL   \n",
       "12027      00v4X00004OllfBQAR   \n",
       "12918      00v4X00003mmwnVQAQ   \n",
       "13042      00v0z00002dGtUCAA0   \n",
       "13566      00v4X00004OkK74QAF   \n",
       "13982      00v4X00003mmwiqQAA   \n",
       "14494      00v4X00003mmwKsQAI   \n",
       "14707      00v4X000042UKJQQA4   \n",
       "15166      00v0z000030jbFxAAI   \n",
       "17861      00v4X00003sjPnWQAU   \n",
       "19184      00v4X0000469fN0QAI   \n",
       "19376      00v0z00002t3kQHAAY   \n",
       "19912      00v4X00004NVGeEQAX   \n",
       "21348      00v4X000048sWhNQAU   \n",
       "21402      00v4X00004KptIcQAJ   \n",
       "22120      00v4X00004G7j09QAB   \n",
       "28854      00v4X00003slDE0QAM   \n",
       "29307      00v4X00004QJHQ5QAP   \n",
       "29659      00v4X00003mnlRdQAI   \n",
       "30850      00v0z000039NPDmAAO   \n",
       "31253      00v4X00003mnlU1QAI   \n",
       "33537      00v4X0000469fmAQAQ   \n",
       "33624      00v4X00003lBEfyQAG   \n",
       "34059      00v0z00002uUDPCAA4   \n",
       "36116      00v4X0000469siLQAQ   \n",
       "36494      00v0z000039OAAoAAO   \n",
       "37966      00v4X00003qikuYQAQ   \n",
       "38342      00v0z00002t0dksAAA   \n",
       "41228      00v4X00003skvUYQAY   \n",
       "41254      00v4X00003skvUdQAI   \n",
       "41538      00v4X00004OjrPkQAJ   \n",
       "42663      00v0z00002uUDhZAAW   \n",
       "42805      00v4X00004OmaYTQAZ   \n",
       "44955      00v4X00004OkTPwQAN   \n",
       "45944      00v4X00003hSO81QAG   \n",
       "46353      00v60000026RnnpAAC   \n",
       "\n",
       "                                                   Title  \\\n",
       "1161                    IT Project Manager – Health Dept   \n",
       "2094       Senior Manager, Governance Risk & Compliance    \n",
       "2163                  IT Security Compliance Supervisorﾊ   \n",
       "2903                         Data Security Consultant I    \n",
       "4295   Director – Global Information Security – Archi...   \n",
       "4672                           Chief Technology Officer    \n",
       "5050                                     Geschäftsführer   \n",
       "5189                                               Ciso�   \n",
       "5212                           Chief Operations Officer    \n",
       "6789                     Technology  Business Consultant   \n",
       "8850                                               Ciso�   \n",
       "9770                     Senior Vice President, Cio � Us   \n",
       "10498  Director – Global Information Security – Archi...   \n",
       "10615  Director Office of Information and Communicati...   \n",
       "11940             Senior Vice President‚ Global Security   \n",
       "12027     Director � Information Security Risk Oversight   \n",
       "12918                         Chief Information Officer    \n",
       "13042                Director Ð IT Client Services (EUS)   \n",
       "13566  Global Digital Transformation Leader, Cloud St...   \n",
       "13982                 Chief Cyber Security Risk Officer    \n",
       "14494                               Deputy Commissioner    \n",
       "14707  Vice President-Dis ? Mobile Healthcare ¦ Nucle...   \n",
       "15166          ÆÃ²Information Security, Risk Management   \n",
       "17861                 Regional Sales Director â€“ Majors   \n",
       "19184                             Cyber System Operatorﾊ   \n",
       "19376                            ANALISTA DE SEGURAN�?àA   \n",
       "19912  Director â It Infrastructure Shared Services A...   \n",
       "21348      Senior Manager, Governance Risk & Compliance    \n",
       "21402   Security & Network Infrastructure – Team Manager   \n",
       "22120  Director Information Technology – Project Mana...   \n",
       "28854  Vice President – Identity Operations, Governan...   \n",
       "29307  Manager Information Technology Security • Is G...   \n",
       "29659  Information Security Director – Identity & Acc...   \n",
       "30850  Svp, Director Of Information Security � Identi...   \n",
       "31253  Information Security Director – Identity & Acc...   \n",
       "33537          Health Information Technology Management    \n",
       "33624   Senior Analyst – Data Protection/Data Governance   \n",
       "34059              Business Operations, Cloud Computingæ   \n",
       "36116    Data Center Manager ‰ÛÒ IT Technical Operations   \n",
       "36494  Director – Global Information Security – Archi...   \n",
       "37966                           Gerente De Distribuci√≥n   \n",
       "38342  Senior Director, Product Management – SD-WAN a...   \n",
       "41228                                       ネットワーク第三部_社員   \n",
       "41254                                       ネットワーク第二部_社員   \n",
       "41538                                             IT・企画部   \n",
       "42663                 Responsable Architecture & Réseaux   \n",
       "42805               Its � Technology Services Specialist   \n",
       "44955           SVP – Chief Information Security Officer   \n",
       "45944                                   セキュリティ統括室一般社員・職員   \n",
       "46353  Information Security Director – Identity & Acc...   \n",
       "\n",
       "                         Job Role Job Function    Job Level  \n",
       "1161         Information Security           IT      Manager  \n",
       "2094   Governance Risk Compliance           IT      Manager  \n",
       "2163   Governance Risk Compliance           IT      Manager  \n",
       "2903         Information Security           IT  Contributor  \n",
       "4295                   Networking  Engineering     Director  \n",
       "4672                   IT General           IT    Executive  \n",
       "5050                   IT General   Management    Executive  \n",
       "5189         Information Security           IT      C-Level  \n",
       "5212               None Technical   Operations      C-Level  \n",
       "6789               None Technical     Services  Contributor  \n",
       "8850         Information Security           IT      C-Level  \n",
       "9770         Information Security           IT     Director  \n",
       "10498                  Networking  Engineering     Director  \n",
       "10615                  Networking           IT     Director  \n",
       "11940        Information Security           IT    Executive  \n",
       "12027                  Networking           IT     Director  \n",
       "12918        Information Security           IT      C-Level  \n",
       "13042                  IT General           IT     Director  \n",
       "13566        Information Security           IT      Manager  \n",
       "13982        Information Security           IT      C-Level  \n",
       "14494        Information Security           IT  Contributor  \n",
       "14707                  Networking      Medical    Executive  \n",
       "15166        Information Security           IT      Manager  \n",
       "17861              None Technical        Sales     Director  \n",
       "19184                     Systems           IT  Contributor  \n",
       "19376        Information Security           IT  Contributor  \n",
       "19912                  Networking           IT     Director  \n",
       "21348  Governance Risk Compliance           IT      Manager  \n",
       "21402                  Networking           IT      Manager  \n",
       "22120                  Networking           IT     Director  \n",
       "28854                 Development  Engineering    Executive  \n",
       "29307        Information Security           IT      Manager  \n",
       "29659                  Networking           IT      Manager  \n",
       "30850                  Networking           IT    Executive  \n",
       "31253                  Networking           IT      Manager  \n",
       "33537                  IT General           IT      Manager  \n",
       "33624  Governance Risk Compliance           IT  Contributor  \n",
       "34059                  Networking           IT  Contributor  \n",
       "36116                  Operations           IT      Manager  \n",
       "36494                  Networking  Engineering     Director  \n",
       "37966              None Technical      Unknown    Executive  \n",
       "38342                  Networking           IT     Director  \n",
       "41228              None Technical      Unknown  Contributor  \n",
       "41254              None Technical      Unknown  Contributor  \n",
       "41538              None Technical        Sales  Contributor  \n",
       "42663                  Networking           IT      Manager  \n",
       "42805        Information Security           IT  Contributor  \n",
       "44955        Information Security           IT      C-Level  \n",
       "45944              None Technical   Operations  Contributor  \n",
       "46353                  Networking           IT      Manager  "
      ]
     },
     "execution_count": 8,
     "metadata": {},
     "output_type": "execute_result"
    }
   ],
   "source": [
    "# Checking for Titles with special characters\n",
    "df[df['Title'].str.contains('[^\\x00-\\x7F]')][:50]"
   ]
  },
  {
   "cell_type": "code",
   "execution_count": 9,
   "id": "5a602fb6",
   "metadata": {},
   "outputs": [],
   "source": [
    "# replaces special character with nothing\n",
    "def remove_special_charac(title):\n",
    "    return re.sub('[^\\x00-\\x7F]', '', title)\n",
    "\n",
    "df['Title'] = df['Title'].apply(remove_special_charac)"
   ]
  },
  {
   "cell_type": "code",
   "execution_count": 10,
   "id": "8e09f614",
   "metadata": {
    "hide_input": true
   },
   "outputs": [
    {
     "data": {
      "text/plain": [
       "Campaign Member ID (18)          00v4X00004AkUYYQA3\n",
       "Title                      Senior Security Engineer\n",
       "Job Role                                Development\n",
       "Job Function                            Engineering\n",
       "Job Level                               Contributor\n",
       "Name: 22595, dtype: object"
      ]
     },
     "execution_count": 10,
     "metadata": {},
     "output_type": "execute_result"
    }
   ],
   "source": [
    "# double checking\n",
    "df.iloc[22595]"
   ]
  },
  {
   "cell_type": "markdown",
   "id": "7650a1ec",
   "metadata": {},
   "source": [
    "## Clean"
   ]
  },
  {
   "cell_type": "code",
   "execution_count": 11,
   "id": "e9f853ae",
   "metadata": {
    "scrolled": true
   },
   "outputs": [],
   "source": [
    "def is_email(text):\n",
    "    email_regex = r'\\b[A-Za-z0-9._%+-]+@[A-Za-z0-9.-]+\\.[A-Z|a-z]{2,}\\b'\n",
    "    return re.match(email_regex, text) is not None\n",
    "\n",
    "def is_all_numbers(text):\n",
    "    return text.isdigit()\n",
    "\n",
    "def is_phone_num(text):\n",
    "    phone_regex = r'\\b(?:\\d{1}-)?\\(?(\\d{3})\\)?[-. ]?(\\d{3})[-. ]?(\\d{4})\\b'\n",
    "    return re.match(phone_regex, text) is not None\n",
    "\n",
    "def has_only_punctuation(text):\n",
    "    return bool(re.fullmatch(r'[^A-Za-z0-9\\s]+', text))"
   ]
  },
  {
   "cell_type": "code",
   "execution_count": 12,
   "id": "0a85739f",
   "metadata": {
    "scrolled": true
   },
   "outputs": [],
   "source": [
    "remove_mask = df['Title'].apply(is_email) | df['Title'].apply(is_all_numbers) | df['Title'].apply(is_phone_num) | df['Title'].apply(has_only_punctuation)\n"
   ]
  },
  {
   "cell_type": "code",
   "execution_count": 13,
   "id": "bd8afa7d",
   "metadata": {
    "scrolled": true
   },
   "outputs": [],
   "source": [
    "df = df[~remove_mask]"
   ]
  },
  {
   "cell_type": "code",
   "execution_count": 14,
   "id": "462366be",
   "metadata": {
    "scrolled": true
   },
   "outputs": [],
   "source": [
    "df = df[df['Title'].str.len() > 1]\n",
    "df = df[df['Title'] != 'NA']"
   ]
  },
  {
   "cell_type": "code",
   "execution_count": 15,
   "id": "d5b3dd62",
   "metadata": {
    "scrolled": false
   },
   "outputs": [],
   "source": [
    "# getting rid of punctuations\n",
    "df['Title'] = df['Title'].apply(lambda x: re.sub('[{}]'.format(string.punctuation), '', x))"
   ]
  },
  {
   "cell_type": "code",
   "execution_count": 16,
   "id": "831f5c53",
   "metadata": {
    "scrolled": true
   },
   "outputs": [
    {
     "data": {
      "text/plain": [
       "835088"
      ]
     },
     "execution_count": 16,
     "metadata": {},
     "output_type": "execute_result"
    }
   ],
   "source": [
    "len(df)"
   ]
  },
  {
   "cell_type": "code",
   "execution_count": 17,
   "id": "a832c38a",
   "metadata": {
    "scrolled": true
   },
   "outputs": [],
   "source": [
    "digits = r'\\b\\S*\\d\\S*\\b'\n",
    "\n",
    "def remove_digits(title):\n",
    "    return re.sub(digits, '', title)\n",
    "\n",
    "df['Title'] = df['Title'].apply(remove_digits)"
   ]
  },
  {
   "cell_type": "code",
   "execution_count": 18,
   "id": "c60254aa",
   "metadata": {
    "scrolled": true
   },
   "outputs": [],
   "source": [
    "# convert to upper case\n",
    "df[['Title', 'Job Function', 'Job Role', 'Job Level']] = df[['Title', 'Job Function', 'Job Role', 'Job Level']].applymap(lambda x: x.upper() if isinstance(x, str) else x)"
   ]
  },
  {
   "cell_type": "code",
   "execution_count": 19,
   "id": "ca32b32f",
   "metadata": {
    "scrolled": true
   },
   "outputs": [],
   "source": [
    "# get rid of the titles that represent \"no longer with company\"\n",
    "df = df[~df['Title'].str.contains(r'\\bNO LONGER\\b')]"
   ]
  },
  {
   "cell_type": "code",
   "execution_count": 20,
   "id": "483ca1c6",
   "metadata": {
    "scrolled": true
   },
   "outputs": [],
   "source": [
    "# get rid of trailing whitespaces\n",
    "df['Title'] = df['Title'].str.strip()"
   ]
  },
  {
   "cell_type": "markdown",
   "id": "8b78b32b",
   "metadata": {},
   "source": [
    "## Consolidate"
   ]
  },
  {
   "cell_type": "code",
   "execution_count": 21,
   "id": "e8242030",
   "metadata": {
    "scrolled": true
   },
   "outputs": [],
   "source": [
    "df1 = df.copy()"
   ]
  },
  {
   "cell_type": "code",
   "execution_count": 22,
   "id": "44bb051f",
   "metadata": {
    "scrolled": true
   },
   "outputs": [],
   "source": [
    "# For each group of Title, R/F/L get the count of rows\n",
    "# For each title with the max frequency, get the R/F/L\n",
    "df_count = df1.groupby(['Title', 'Job Role', 'Job Function', 'Job Level']).size().reset_index(name='count')\n",
    "max_count_index = df_count.groupby('Title')['count'].idxmax()\n",
    "max_freq = df_count.loc[max_count_index][['Title', 'Job Role', 'Job Function', 'Job Level']]\n",
    "\n",
    "# Reset index so that we can replace subsequent rows of each group with\n",
    "# the combination that appears the most\n",
    "df1.set_index(df1['Title'], inplace=True)\n",
    "max_freq.set_index(max_freq['Title'], inplace=True)\n",
    "col_name = ['Title', 'Job Function', 'Job Role', 'Job Level']\n",
    "df1.loc[df1.Title.isin(max_freq.Title), col_name] = max_freq[col_name]\n",
    "df1.reset_index(drop=True, inplace=True)"
   ]
  },
  {
   "cell_type": "markdown",
   "id": "90f6f9a9",
   "metadata": {},
   "source": [
    "#### Consolidate Job Level"
   ]
  },
  {
   "cell_type": "code",
   "execution_count": 23,
   "id": "1e0d72e1",
   "metadata": {
    "scrolled": true
   },
   "outputs": [
    {
     "data": {
      "text/plain": [
       "array(['MANAGER', 'CONTRIBUTOR', 'C-LEVEL', 'DIRECTOR', 'EXECUTIVE',\n",
       "       'NON-MANAGER', 'UNKNOWN', 'DIRECTOR LEVEL', 'VP-LEVEL',\n",
       "       'ENGINEER/ADMIN', 'VP/DIRECTOR', 'TEAM LEAD', 'VP',\n",
       "       'DIRECTOR / C-LEVEL', 'ADMIN', 'CXO', 'MANAGEMENT',\n",
       "       'DIRECTOR OF ENTERPRISE CLOUD BUSINESS', 'C-SUITE', 'ENGINEER'],\n",
       "      dtype=object)"
      ]
     },
     "execution_count": 23,
     "metadata": {},
     "output_type": "execute_result"
    }
   ],
   "source": [
    "df1['Job Level'].unique()"
   ]
  },
  {
   "cell_type": "code",
   "execution_count": 24,
   "id": "338cf710",
   "metadata": {
    "scrolled": true
   },
   "outputs": [],
   "source": [
    "def consolidate_job_level(level):\n",
    "    if level in ['MANAGER','CONTRIBUTOR','DIRECTOR','C-LEVEL', 'EXECUTIVE']:\n",
    "        return level\n",
    "    elif level in ['VP', 'VP/DIRECTOR', 'VP-LEVEL']:\n",
    "        return 'EXECUTIVE'\n",
    "    elif level in ['NON-MANAGER', 'ENGINEER', 'ENGINEER/ADMIN', 'ADMIN']:\n",
    "        return 'CONTRIBUTOR'\n",
    "    elif level in ['TEAM LEAD', 'MANAGEMENT']:\n",
    "        return 'MANAGER'\n",
    "    elif level in ['CXO', 'C-SUITE']:\n",
    "        return 'C-LEVEL'\n",
    "    elif level in ['DIRECTOR LEVEL', 'DIRECTOR / C-LEVEL', 'DIRECTOR OF ENTERPRISE CLOUD BUSINESS']:\n",
    "        return 'DIRECTOR'\n",
    "    elif level == 'UNKNOWN':\n",
    "        return ''\n",
    "    else:\n",
    "        return 'NON-ICP'\n",
    "    "
   ]
  },
  {
   "cell_type": "code",
   "execution_count": 25,
   "id": "060e59a6",
   "metadata": {
    "scrolled": true
   },
   "outputs": [],
   "source": [
    "df1['Job Level'] = df1['Job Level'].apply(consolidate_job_level)"
   ]
  },
  {
   "cell_type": "code",
   "execution_count": 26,
   "id": "c2013f60",
   "metadata": {
    "scrolled": true
   },
   "outputs": [
    {
     "data": {
      "text/plain": [
       "array(['MANAGER', 'CONTRIBUTOR', 'C-LEVEL', 'DIRECTOR', 'EXECUTIVE', ''],\n",
       "      dtype=object)"
      ]
     },
     "execution_count": 26,
     "metadata": {},
     "output_type": "execute_result"
    }
   ],
   "source": [
    "df1['Job Level'].unique()"
   ]
  },
  {
   "cell_type": "markdown",
   "id": "00cffef8",
   "metadata": {},
   "source": [
    "#### Consolidate Job Role"
   ]
  },
  {
   "cell_type": "code",
   "execution_count": 27,
   "id": "e5797608",
   "metadata": {
    "scrolled": false
   },
   "outputs": [
    {
     "data": {
      "text/plain": [
       "array(['INFORMATION SECURITY', 'NETWORKING', 'DEVELOPMENT',\n",
       "       'NONE TECHNICAL', 'SYSTEMS', 'PROGRAM MANAGEMENT', 'IT GENERAL',\n",
       "       'GOVERNANCE RISK COMPLIANCE', 'DATA', 'BUSINESS SYSTEMS',\n",
       "       'HELP DESK', 'INTEGRATION', 'OPERATIONS', 'COMMUNICATIONS',\n",
       "       'VENDOR MANAGEMENT', 'TRAINING', 'IT FACILITIES', 'NON-IT',\n",
       "       'BUSINESS CONTINUITY', 'GENERAL', 'CUSTOMER-FACING ROLE',\n",
       "       'SENIOR MANAGER, CRITICAL FACILITIES'], dtype=object)"
      ]
     },
     "execution_count": 27,
     "metadata": {},
     "output_type": "execute_result"
    }
   ],
   "source": [
    "df1['Job Role'].unique()"
   ]
  },
  {
   "cell_type": "code",
   "execution_count": 28,
   "id": "3f2bdb28",
   "metadata": {
    "scrolled": true
   },
   "outputs": [],
   "source": [
    "def consolidate_job_role(role):\n",
    "    if role in ['INFORMATION SECURITY','DEVELOPMENT','NETWORKING','IT GENERAL','SYSTEMS']:\n",
    "        return role\n",
    "    elif role in ['BUSINESS SYSTEMS', 'DATA']:\n",
    "        return 'SYSTEMS'\n",
    "    elif role in ['INTEGRATION', 'OPERATIONS']:\n",
    "        return 'NETWORKING'\n",
    "    elif role == 'IT FACILITIES':\n",
    "        return 'INFORMATION SECURITY'\n",
    "    else:\n",
    "        return 'NON-ICP'"
   ]
  },
  {
   "cell_type": "code",
   "execution_count": 29,
   "id": "2fc04ad9",
   "metadata": {
    "scrolled": true
   },
   "outputs": [],
   "source": [
    "df1['Job Role'] = df1['Job Role'].apply(consolidate_job_role)"
   ]
  },
  {
   "cell_type": "code",
   "execution_count": 30,
   "id": "42785798",
   "metadata": {
    "scrolled": true
   },
   "outputs": [
    {
     "data": {
      "text/plain": [
       "array(['INFORMATION SECURITY', 'NETWORKING', 'DEVELOPMENT', 'NON-ICP',\n",
       "       'SYSTEMS', 'IT GENERAL'], dtype=object)"
      ]
     },
     "execution_count": 30,
     "metadata": {},
     "output_type": "execute_result"
    }
   ],
   "source": [
    "df1['Job Role'].unique()"
   ]
  },
  {
   "cell_type": "markdown",
   "id": "1282795a",
   "metadata": {},
   "source": [
    "#### If 'INFORMATION SECURITY', 'DEVELOPMENT', 'NETWORKING', 'IT GENERAL', 'SYSTEMS' does not have function == IT then role should be NON-ICP"
   ]
  },
  {
   "cell_type": "code",
   "execution_count": 31,
   "id": "d50a6285",
   "metadata": {
    "scrolled": true
   },
   "outputs": [],
   "source": [
    "df1.loc[(df1['Job Function'] != 'IT') & (df1['Job Role'].isin(['INFORMATION SECURITY','DEVELOPMENT','NETWORKING','IT GENERAL','SYSTEMS'])), 'Job Role'] = 'NON-ICP'\n"
   ]
  },
  {
   "cell_type": "markdown",
   "id": "51712525",
   "metadata": {},
   "source": [
    "#### Consolidate Job Function"
   ]
  },
  {
   "cell_type": "code",
   "execution_count": 32,
   "id": "4d6fecab",
   "metadata": {
    "scrolled": false
   },
   "outputs": [
    {
     "data": {
      "text/plain": [
       "array(['IT', 'ENGINEERING', 'SALES', 'SUPPORT', 'OPERATIONS',\n",
       "       'MANAGEMENT', 'PUBLIC SECTOR', 'FINANCE', 'ADMINISTRATION',\n",
       "       'UNKNOWN', 'FACILITIES', 'OTHER', 'CORPORATE', 'MARKETING',\n",
       "       'HUMAN RESOURCE', 'PROCUREMENT', 'SERVICES', 'LEGAL', 'EDUCATION',\n",
       "       'MEDICAL', 'PURCHASING', 'INFORMATION SECURITY',\n",
       "       'ENGINEERING & TECHNICAL', 'FIELD MARKETING',\n",
       "       'ENTERPRISE ARCHITECTURE', 'INFRASTRUCTURE',\n",
       "       'MARKETING OPERATIONS', 'IT OPERATIONS',\n",
       "       'GOVERNMENTAL AFFAIRS & REGULATORY LAW'], dtype=object)"
      ]
     },
     "execution_count": 32,
     "metadata": {},
     "output_type": "execute_result"
    }
   ],
   "source": [
    "df1['Job Function'].unique()"
   ]
  },
  {
   "cell_type": "code",
   "execution_count": 33,
   "id": "83d2e702",
   "metadata": {
    "scrolled": true
   },
   "outputs": [],
   "source": [
    "def consolidate_job_func(func):\n",
    "    if func in ['IT','ENGINEERING','PROCUREMENT','RISK/LEGAL/COMPLIANCE']:\n",
    "        return func\n",
    "    elif func == 'PURCHASING':\n",
    "        return 'PROCUREMENT'\n",
    "    elif func in ['INFORMATION SECURITY', 'IT OPERATIONS']:\n",
    "        return 'IT'\n",
    "    elif func in ['GOVERNMENTAL AFFAIRS & REGULATORY LAW', 'LEGAL']:\n",
    "        return 'RISK/LEGAL/COMPLIANCE'\n",
    "    elif func == 'UNKNOWN':\n",
    "        return ''\n",
    "    else:\n",
    "        return 'NON-ICP'"
   ]
  },
  {
   "cell_type": "code",
   "execution_count": 34,
   "id": "9cb52d91",
   "metadata": {
    "scrolled": true
   },
   "outputs": [],
   "source": [
    "df1['Job Function'] = df1['Job Function'].apply(consolidate_job_func)"
   ]
  },
  {
   "cell_type": "code",
   "execution_count": 35,
   "id": "11cb0dde",
   "metadata": {
    "scrolled": true
   },
   "outputs": [
    {
     "data": {
      "text/plain": [
       "array(['IT', 'ENGINEERING', 'NON-ICP', '', 'PROCUREMENT',\n",
       "       'RISK/LEGAL/COMPLIANCE'], dtype=object)"
      ]
     },
     "execution_count": 35,
     "metadata": {},
     "output_type": "execute_result"
    }
   ],
   "source": [
    "df1['Job Function'].unique()"
   ]
  },
  {
   "cell_type": "markdown",
   "id": "3cee961e",
   "metadata": {},
   "source": [
    "## Cleaning Roles in IT"
   ]
  },
  {
   "cell_type": "markdown",
   "id": "3526be34",
   "metadata": {},
   "source": [
    "Here we're checking to make sure C-Level is correctly classified and that those that should be contributor are changed. Obviously, there will be edge cases in which the Role should be Manager instead of C-Level, but less of a type 2 error"
   ]
  },
  {
   "cell_type": "markdown",
   "id": "32361f39",
   "metadata": {},
   "source": [
    "#### Creating Corpus"
   ]
  },
  {
   "cell_type": "code",
   "execution_count": 36,
   "id": "bd2e0f9b",
   "metadata": {
    "scrolled": true
   },
   "outputs": [],
   "source": [
    "df2 = df1.copy()"
   ]
  },
  {
   "cell_type": "code",
   "execution_count": 37,
   "id": "6fda2205",
   "metadata": {
    "scrolled": true
   },
   "outputs": [],
   "source": [
    "it_clvl = df2['Title'][(df2['Job Level'] == 'C-LEVEL') & (df2['Job Function'] == 'IT')].unique()"
   ]
  },
  {
   "cell_type": "code",
   "execution_count": 38,
   "id": "8eeaeaa3",
   "metadata": {
    "scrolled": true
   },
   "outputs": [
    {
     "data": {
      "text/plain": [
       "7844"
      ]
     },
     "execution_count": 38,
     "metadata": {},
     "output_type": "execute_result"
    }
   ],
   "source": [
    "len(it_clvl)"
   ]
  },
  {
   "cell_type": "code",
   "execution_count": 39,
   "id": "d762918c",
   "metadata": {
    "scrolled": true
   },
   "outputs": [
    {
     "name": "stdout",
     "output_type": "stream",
     "text": [
      "ISSO\n",
      "FVP\n",
      "INFORMATION SECURITY OFFICE\n",
      "MD INFO SEC\n",
      "TEACHING INFORMATION RISK AND SECURITY\n",
      "ISSMISSE\n",
      "TRUSTED INTERNET CONNECTIONS TIC PROGRAM MANAGER\n",
      "RISO\n",
      "JUNIOR CYBER SECURITY COMPLIANCE ANALYST\n",
      "REGIONAL PRESIDENT GANNETTUSA TODAY NETWORK\n",
      "PRESIDENT INFORMATION TECHNOLOGY\n",
      "SECURITY  RISK\n",
      "SVP ENTEPRISE ARCHITECTURE AND SHARED APPLICATIONS\n",
      "PAST PRESIDENTSENIOR SECURITY ANALYS\n",
      "SNR INFOSEC ANALYST\n",
      "SENIOR VICE PRESIDENT NETWORK AND SECURITY ADMIN\n",
      "PRESIDENT BUSINESS UNIT VOICE\n",
      "GOOGLE MIGRATION TEAM AT MD DEPT OF INFORMATION TECHNOLOGY\n",
      "AREA MANAGER TECHNOLOGY AND INNOVATION\n",
      "BISO\n",
      "GLOBAL SECURITY PRACTICE LEADER\n",
      "CHAIRMANCYBERSECURITY SENIOR ADVISO\n",
      "SR MANAGER INFORMAITON SECURITY\n",
      "RISK AND SECURITY OFFICE AT SOLVAY\n",
      "MIT FELLOW\n",
      "GLOBAL VP OF IT\n",
      "SECURITY SPECIALYST\n",
      "OPERATIONS  ISO MANAGER INFORMATION TECHNOLOGY\n",
      "GLOBAL VP WIRELESS NETWORK ENGINEERING\n",
      "SR MGR SECURITY RISK GOVERNANCE  COMPLIANCE\n",
      "PRESIDENT INFORMATION TECHNOLOGY SOLUTIONS  SERVICES\n",
      "SR IT STRATEGIC ADVISOR\n",
      "REGIONAL ISO NA\n",
      "PRESIDENT INNOVATION LABS\n",
      "PRESIDENT SPACE SYSTEMS\n",
      "VICE CORPORATE PRESIDENT TECHNOLOGY SECURITY STRATEGY  DESIGN LEAD\n",
      "SVPINFORMATION TECHNOLOGY\n",
      "INFORMATION SECURITY  ASSURANCE  CYBER RISK  SECURITY\n",
      "GLOBAL TECHNOLOGY\n",
      "AVP ARDENT HEALTH SERVICES LOVELACE HEALTH IT DIVISION\n",
      "SECURITY NONIT\n",
      "SYSTEMS SOFTWARE SPECIALIST III TECHNICAL  INFORMATION SECURITY ARCHITECT\n",
      "PRESIDENT GLOBAL TECHNOLOGY  OPERATIONS\n",
      "CHAIRMAN OFFICES OF THE COMMISSIONERS\n",
      "VICER PRESIDENT INFRASTRUCTURE OPERATIONS\n",
      "CHAIRMAN SECURITIES AND EXCHANGE COMMISSION SEC\n",
      "IT TEACHING FACULTY\n",
      "INFORMATION DOMINANCE CORPS IT STRATEGY IT THEATER OPERATIONS COALITION BUILDING CAPTAIN\n",
      "PRESIDENT ENTERPRISE SHARED SERVICES\n",
      "IT VICE PRESIDENT INFORMATION SECURITY\n",
      "CHAIRMAN ICAN  ANNUAL N CALIF GOLF TOURNAMENT INTERNATIONAL CANCER ADVOCACY NETWORK\n",
      "PRIVACY SWAN CONSULTING\n",
      "PRESIDENT  ELIJAH INFORMATION TECHNOLOGY\n",
      "PRESIDENT AT SUNSTREAM BUSINESS SERVICES\n",
      "SVP  INNOVATION  TRANSFORMATION OFFICE\n",
      "PRESIDENT MULTICARE INLAND NORTHWEST HOSPITALS  REGION STRATEGIC IMPLEMENTATION\n",
      "HISTORICAL COMMISSION\n",
      "FUNCTIONAL IT LEAD\n",
      "TECHNICAL SERVICES SUPPORT\n",
      "CLOUD ISSO\n",
      "GLOBAL CHAIRMAN AMGEN LATIN EMPLOYEE NETWORK\n",
      "PRESIDENT ST LUKES UNIVERSITY HEALTH NETWORK CARBON COUNTY CAMPUSES\n",
      "PRESIDENT TECHNOLOGY\n",
      "CPTO\n",
      "IT GRC\n",
      "CHAIR OF THE CYBERSECURITY AND DATA PRIVACY GROUP AND CHAIR OF THE LITIGATION GROUP\n",
      "ON SABBATICAL\n",
      "PRESIDENT TECHNOLOGY  SOLUTIONS\n",
      "PEOPLE COMMUNICATIONS TECHNOLOGY\n",
      "PRESIDENT INTELLIGENCE GROUP\n",
      "PRESIDENT INDUSTRIAL INTERMEDIATES  INFRASTRUCTURE ASIA PACIFIC OVERSIGHT\n",
      "MANAGED SECURITY  AUTOMATI\n",
      "PRESIDENT TECHNOLOGY AND INNOVATION\n",
      "SR SPECIAL PROJECTS MANAGER\n",
      "HYBRID CLOUD PARTNERSHIPS\n",
      "SENIOR STRATEGIC ADVISOR FOR CYBERINFRASTRUCTUREIT\n",
      "PLANS PROGRAMS AND REQUIREMENTS\n",
      "CONSULTING CMIO\n",
      "SENIOR VP MA OPERATIONS  ECOMMERCE\n",
      "CHAIRPERSON OF THE TRAFFIC COMMISSION\n",
      "PRESIDENT DRILLING SYSTEMS\n",
      "PRESIDENT  TECHNOLOGY\n",
      "PRESIDENT MIDWEST RESEARCH UNIVERSITY NETWORK\n",
      "PRESIDENT INFORMATION SOLUTIONS US\n",
      "ITS MGMT\n",
      "PRESIDENT  GENERAL MANAGER INFRASTRUCTURE SOLUTIONS GROUP\n",
      "PRESIDENT TECHNOLOGY  PRODUCT\n",
      "RITE AID\n",
      "PRESIDENT OF ENTERPRISE SECURITY SOLUTIONS\n",
      "PRESIDENT MERIDIAN IT\n",
      "SR MANAGER INFORMATION ARCHITECTURE AND GOVERNANCE\n",
      "PRESIDENT NETWORK INNOVATIONS  UNITED STATES GOVERNMENT\n",
      "ST MARYS LAKES MANAGER INFORMATION TECHNOLOGY DETROIT\n",
      "TEAM LEAD NETWORKING  SYSTEMS ENGINEERING IV\n",
      "VICE BUSINESS PRESIDENT ANALYTICS LEAD\n",
      "DIVISION TECHNOLOGY  INFORMATION MANAGEMENT COMMAND INFORMATION TECHNOLOGY COMMANDER\n",
      "PRESIDENT CUBIC SECURITY SYSTEMS\n",
      "IMPRENDITOR\n",
      "CHAIRMAN INTEGRATED NETWORK OF CANCER PROGRAMS FOR ACS COMMISSION ON CANCER\n",
      "VIC CHAIR CS AND CIS\n",
      "VICE IT PRESIDENT AT CITI INFRASTRUCTURE DELIVERY LEAD\n",
      "CAO ENTERPRISE INFRASTRUCTURE\n",
      "PRESIDENT  CLINICAL INTEGRATION  ENTERPRISE PHYSICIAN\n",
      "DAF PRINCIPAL CYBER ADVISOR\n",
      "PRESIDENT PRODUCT  TECHNOLOGY\n",
      "PISO\n",
      "PRESIDENT MISSION SYSTEMS\n",
      "ISSOCOMPUTER SPECIAILIST\n",
      "MD CYBERSECURITY\n",
      "PRESIDENT TECHNOLOGY VENTURES\n",
      "PRESIDENT ALL COVERED IT SERVICES\n",
      "PRESIDENT FIXED NETWORKS\n",
      "PRESIDENT  LEAD OF PERFORMANCE RACING NETWORK ANNOUNCER\n",
      "PRESIDENT NATIONAL SECURITY  INNOVATIVE SOLUTIONS\n",
      "MANAGER INFORMATION TECHNOLOGY  PRESIDENT\n",
      "HELP DESK NETWORKINFRASTRUCTURE SUPPORT  MD EXPRESS ANALYST\n",
      "BUSINESS ANALYST  IT\n",
      "DELOITTE\n",
      "HERBALIFE\n",
      "PRESIDENT GLOBAL HEALTHCARE  IT DISTRIBUTION\n",
      "DIVISION ADMINISTRATOR  DTSDS\n",
      "PRESIDENT THE CHRIST HOSPITAL HEALTH NETWORK\n",
      "CHAIRMAN MADDOG TECHNOLOGY\n",
      "PRESIDENTNETWORK ARCHITECT\n",
      "NO RHODE ISLAND BUSINESS\n",
      "FCOE\n",
      "TEXAS MILITARY DEPARTMENT\n",
      "TECHNOLOGY CONSULTANT ENTERPRISE CLOUD SERVICES\n",
      "SVP  BUSINESS TRANSFORMATION EXECUTIVE\n",
      "ISO MANAGER\n",
      "TECH DIVISION PRESIDENT\n",
      "TISO\n",
      "EVP TECHNOLOGY INFRASTRUCTURE\n",
      "SISO\n",
      "GROUP PRESIDENT NETWORK INTEGRATION  SERVICES\n",
      "PRESIDENT OPERATIONS  TECHNOLOGY\n",
      "PRESIDENT SPACE TRAINING  CYBER\n",
      "SENIOR MANAGER IT INFRASTRUCTURE OPERATIONS\n",
      "CLOUD  IOT SECURITY\n",
      "DATA CENTER\n",
      "AO SMITH CORP\n",
      "PRESIDENT BANNER HEALTH NETWORK\n",
      "SEVICENOW ARCHITECT\n",
      "PRESIDENT OF TAYLOR TECHNOLOGY SERVICES\n",
      "INFORMATION AND IT SECURITY PRIVACY AND RISK\n",
      "EMERGING HEALTHCARE DIGITAL SOLUTIONS  PARTNERSHIPS LEAD\n",
      "PRESIDENT ECOMMERCE PLATFORM\n",
      "PRESIDENT VELYS DIGITAL SURGERY\n",
      "IT SYSTEMS SECURITY ISSO\n",
      "MD CYBER SECURITY\n",
      "SR INFORMATION SECURITY ANALYSTSUPERVISOR\n",
      "ISSOISSM\n",
      "PRESIDENT GLOBAL IT SERVICES  SOLUTIONS\n",
      "INFORMATION ASSURANCE MANAGER SECURITY\n",
      "ERP PROGRAM CUTOVER CONSULTANT\n",
      "DIVISION PRESIDENT INFORMATION SECURITY  COMPLIANCE SERVICES\n",
      "ALLISON TRANSMISSION\n",
      "SOUTHFIELD PLANNING COMMISSION CHAIRPERSON\n",
      "INFORMATION  ISSO TECHNOLOGY SPECIALIST SECURITY\n",
      "THIRD PARTY INFORMATION CONSULTANT\n",
      "PRESIDENT KOHLER POWER SYSTEMS\n",
      "AREA INFORMATION TECHNOLOGY MANAGER\n",
      "PRESIDENT  PROJECT MANAGER\n",
      "GLOBAL CYBERSECURITY MANAGER\n",
      "DIVISION PRESIDENT VIDEO NETWORK\n",
      "PRESIDENT CLOUD COLLABORATION\n",
      "CLOUD DIGITAL STRATEGY  LARGE SCALE DATA MIGRATION ENTERPRISE ARCHITECTURE\n",
      "GROUP PRESIDENT INFRASTRUCTURE\n",
      "PRESIDENT NETWORKS\n",
      "NATIONAL CMIO\n",
      "PRESIDENT NETWORK\n",
      "SVP TECHNOLOGY DELIVERY\n",
      "PRESIDENT SR CYBER SECURITY ANALYST\n",
      "COPRESIDENT ETHICAL  RESPONSIBLE BUSINESS NETWORK\n",
      "INSURANCE  RISK SOLUTIONS\n",
      "GLOBAL PRESIDENT TECHNOLOGY SOLUTIONS BUSINESS\n",
      "PRESIDENT CYBER  INTELLIGENCE SOLUTIONS\n",
      "SR IT MANAGER  SECURITY STAKEHOLDER ENGAGEMENT\n",
      "RISK AND CONTROLS\n",
      "PRESIDENT BUSINESS PROCESS AND SYSTEMS\n",
      "INFORMATION SECURITY  RISK MANAGEMENT ADVISOR\n",
      "CYBER SECURITY ADVISORY BOARD MEMBER\n",
      "PRESIDENT DATA CENTER SOLUTIONS\n",
      "ISSEISSO\n",
      "GROUP PRESIDENT ENTERPRISE TECHNOLOGY\n",
      "CYBER OVERSIGHT\n",
      "BUSINESS INFORMATION SECURITY PARTNER\n",
      "PRESIDENT MANAGED SERVICES\n",
      "PRESIDENT DATA INTEGRATION\n",
      "PRESIDENT DIY DO INFORMATION TECHNOLOGY YOURSELF NETWORK\n",
      "PRESIDENT CYBER COMMUNICATION INC PARTNER IN DISASTER SURVIVAL PLANNING NETWORK INC\n",
      "PRESIDENT FRAUD AND CREDIT RISK MANAGEMENT\n",
      "SOLUTIONS PRESIDENT TECHNOLOGY\n",
      "PRESIDENT AND TECHNOSTRATEGIST\n",
      "INFORMATION SYSTEM SECURITY SPECIALIST AT USDA\n",
      "PRESIDENT INFOPIPE DATA CENTERS NETWORKS SECURITY\n",
      "PRESIDENT ECOMMERCE\n",
      "CLOUD AND SHARED SERVICES PORTFOLIO\n",
      "SVP INFORMATION TECHNOLOG\n",
      "ISSO CRM\n",
      "ADVISORY BOARD MEMBER RUTGERS UNIVERSITY CYBER SECURITY\n",
      "SENIOR VICE PRESIDENT PRODUCT  SECURITY INNOVATION ELAVON\n",
      "VICE CHAIRMAN TECHNOLOGY  OPERATIONS SERVICES\n",
      "PRESIDENT TECHNOLOGY  STRATEGY\n",
      "SVP  ENTERPRISE TECHNOLOGY SOLUTIONS\n",
      "MD OF IT\n",
      "CHAIR OF COMPUTER AND INFORMATION SCIENCE\n",
      "GISODPO\n",
      "CHAIRMAN TECHNOLOGY COMMITTEE\n",
      "FSO  IAM\n",
      "CHAIR OF INFORMATION TECHNOLOGY\n",
      "PROJECT PORTFOLIO  STRATEGY SENIOR MANAGER INFORMATION TECHNOLOGY\n",
      "AISO\n",
      "SVP DIGITAL TRANSFORMATION AND IT MODERNIZATION\n",
      "PRESIDENT KONIAG INFORMATION SECURITY SERVICES\n",
      "SENIOR INFORMATION TECHNOLOGY SECURITY SPECIALIST\n",
      "CXO ADVISOR\n",
      "PRESIDENT  SECURE CLOUD\n",
      "PRESIDENT NETWORK OPERATIONS\n",
      "INFORMATION SECURITY SENIOR EXECUTIVE\n",
      "PRESIDENT CLOUD SUCCESS SERVICES\n",
      "MOTIVA\n",
      "SVP TECHNOLOGY INFRASTRUCTURE AND CLOUD TRANSFORMATION\n",
      "ISO  IT SECURITY MANAGER\n",
      "BUSINESS CONTINUITY  INFORMATION SECURITY SENIOR EXECUTIVE\n",
      "SVP ADVISOR FACING TECHNOLOGY\n",
      "CYBER AUTHORITY\n",
      "GONE\n",
      "IDENTITY  ACCESS MANAGEMENT SUPERVISOR\n",
      "THE ESTEE LAUDER COMPANIES\n",
      "SECURITY DIR\n",
      "CMIO\n",
      "CLINICAL PROFESSOR IN MANAGEMENT INFORMATION SYSTEMS\n",
      "SENIOR VICE PRESIDENT AOD INFRASTRUCTURE AND CYBER SECURITY\n",
      "CYBERSECURITY PROGRAM ADVISORY BOARD MEMBER\n",
      "INFORMATION SERVICES DEPARTMENT\n",
      "GROUP PRESIDENT CLEAN POWER ENERGY NETWORKS\n",
      "PRESIDENTS CLUB IT SPECIALIST\n",
      "PRESIDENT PANASONIC SYSTEM SOLUTIONS COMPANY OF NORTH AMERICA\n",
      "AVP INFO SECURITY EXPOSURE MGMT SPECIALIST\n",
      "CONTRACT SENIOR SECURITY ARCHITECT\n",
      "PRESIDENT ABSTRAKT CLOUD SOLUTIONS\n",
      "PRESIDENT PRESCRIPTION TECHNOLOGY SOLUTIONS\n",
      "TRANSFORMATIONAL LEADE\n",
      "VICE INFRASTRUCTURE PRESIDENT TECHNOLOGY LEAD\n",
      "PRESIDENT NUCLEAR SECURITY  ENVIRONMENTAL\n",
      "IS NETWORK SECURITY ENGINEER PRINCIPAL\n",
      "ENTERPRISE CLOUD AUTHORIZING OFFICIAL DESIGNATED REPRESENTATIVE\n",
      "SVP OF CYBERSECURITY\n",
      "SENIOR MANAGER INFORMATION ARCHITECTURE  DELIVERY\n",
      "PRESIDENT  SECURITY INDUSTRY ASSOCIATION\n",
      "TIM\n",
      "NETWORK OPS MANAGER\n",
      "GLOBAL TECHNOLOGY  DATA LEAD\n",
      "INFORMATION SYSTEM SECURITY OFFICIER\n",
      "VICE PROJECT MANAGER  PRESIDENT\n",
      "VICE TELECOM PRESIDENT ANALYTICS LEAD\n",
      "SEC\n",
      "SENIOR LEADER OF TECHNICAL PROJECT MANAGERS\n",
      "CHROME SECURITY SPECIALIST\n",
      "CAO OF INSTITUTIONAL SECURITIES TECHNOLOGY\n",
      "PRESIDENT FIRE  SECURITY\n",
      "PRESIDENT PENSION ADMINISTRATORS  CONSULTANTS INC CENTURY SECURITIES ASSOCIATES INC\n",
      "SENIOR INFORMATION SECURITY MANAGER AND IT GOVERNANCE\n",
      "ANDROID  CHROME MARKETING\n",
      "IT SECURITY RISK\n",
      "BISO FOR TRIZETTO A COGNIZANT COMPANY\n",
      "CO CHAIR MOBILE WORKING GROUP\n",
      "ZONE FISO\n",
      "VISITOR SERVICES MANAGER\n",
      "PRESIDENT INFORMATION TECHNOLOGY NORTH AMERICA\n",
      "DIGITAL BUSINESS SERVICES\n"
     ]
    }
   ],
   "source": [
    "# Checking to see what are the titles that dont match these keywords so that i could manually create corpus\n",
    "# of words for manager/exec/dir\n",
    "keywords_clvl = ['chief', 'cheif', 'founder', 'head', 'officer', 'owner', 'cco', 'cbo', 'ceo', 'cto', 'cso', 'cro', 'citso', 'cisso',\n",
    " 'cpo', 'coo', 'cmo', 'cio', 'ciso', 'cdo', 'cfo', 'cito']\n",
    "\n",
    "for title in it_clvl:\n",
    "    if not any(keywords in title.lower() for keywords in keywords_clvl):\n",
    "        print(title)"
   ]
  },
  {
   "cell_type": "markdown",
   "id": "f3551806",
   "metadata": {},
   "source": [
    "## Note:"
   ]
  },
  {
   "cell_type": "markdown",
   "id": "554a21cf",
   "metadata": {},
   "source": [
    "Here we are only applying this to Role == 'C-LEVEL'. It would be more 'costly' to identify individal as C-LEVEL if they are contributor. When Role == 'MANAGER'/'EXECUTIVE'/'DIRECTOR' we will keep the SoT as is because we assume that even if it is not labelled correctly, there is less of a type 2 error. We will then check when Role == 'CONTRIBUTOR' to make sure that there are no C-LEVEL in there."
   ]
  },
  {
   "cell_type": "code",
   "execution_count": 40,
   "id": "e17ba8ab",
   "metadata": {
    "scrolled": true
   },
   "outputs": [],
   "source": [
    "# if job function == 'IT' and job level == 'C-LEVEL' and title contains these keywords in exec, dir, manag\n",
    "# AND NOT in the keywords c-level\n",
    "# then change Job level to appropriate level\n",
    "\n",
    "keywords_except = ['coordinator', 'director']\n",
    "keywords_exclude_coocto = ['chief', 'cheif', 'founder', 'head', 'officer', 'owner', 'cco', 'cbo', \\\n",
    "                           'ceo', 'cso', 'cro', 'citso', 'cisso', 'cpo', 'cmo', 'cio', 'ciso', 'cdo', 'cfo', 'cito']\n",
    "keywords_exec = ['chair', 'chairwoman', 'president', 'chairman', 'svp', 'vp', 'board']\n",
    "keywords_director = ['director', 'dr', 'dir']\n",
    "keywords_manager = ['mananger', 'maanger', 'senior', 'sr','management', 'mngr','manger', 'manager',\\\n",
    "                    'supervisor', 'lead', 'principal', 'mgr', 'leader', 'leadership', 'managment', \\\n",
    "                    'mgt', 'manage', 'mamager', 'mrg', 'mannager']\n",
    "\n",
    "def clean_clvl(df2):\n",
    "    title_lower = df2['Title'].lower()\n",
    "    words = title_lower.split()\n",
    "    for word in words:\n",
    "        if word in keywords_except:\n",
    "            if any(keywords in title.lower() for keywords in keywords_exclude_coocto):\n",
    "                return 'C-LEVEL'\n",
    "        elif word in keywords_clvl:\n",
    "            return 'C-LEVEL'\n",
    "    if any(keyword not in title_lower for keyword in keywords_clvl) and \\\n",
    "       any(keyword in title_lower for keyword in keywords_exec):\n",
    "        return 'EXECUTIVE'\n",
    "    elif any(keyword not in title_lower for keyword in keywords_clvl) and \\\n",
    "       any(keyword in title_lower for keyword in keywords_director):\n",
    "        return 'DIRECTOR'\n",
    "    elif any(keyword not in title_lower for keyword in keywords_clvl) and \\\n",
    "       any(keyword in title_lower for keyword in keywords_manager):\n",
    "        return 'MANAGER'\n",
    "    else:\n",
    "        return 'CONTRIBUTOR'"
   ]
  },
  {
   "cell_type": "code",
   "execution_count": 41,
   "id": "c66c148a",
   "metadata": {
    "scrolled": true
   },
   "outputs": [],
   "source": [
    "df2['Job Level'][(df2['Job Level'] == 'C-LEVEL') & (df2['Job Function'] == 'IT')] = \\\n",
    "    df2[(df2['Job Level'] == 'C-LEVEL') & (df2['Job Function'] == 'IT')]\\\n",
    "    .apply(lambda df2: clean_clvl(df2), axis=1)\n"
   ]
  },
  {
   "cell_type": "code",
   "execution_count": 42,
   "id": "c068b41b",
   "metadata": {
    "scrolled": true
   },
   "outputs": [],
   "source": [
    "it_con = df2['Title'][(df2['Job Level'] == 'CONTRIBUTOR') & (df2['Job Function'] == 'IT')].unique()"
   ]
  },
  {
   "cell_type": "code",
   "execution_count": 43,
   "id": "5eab2dc0",
   "metadata": {},
   "outputs": [],
   "source": [
    "# doesn't print anything because it seems like there are no C-LEVELs in contributor\n",
    "for i in it_con:\n",
    "    words = i.split()\n",
    "    for word in words:\n",
    "        if word in keywords_except:\n",
    "            if any(keywords in title.lower() for keywords in keywords_exclude_coocto):\n",
    "                print(words)\n",
    "        elif word in keywords_clvl:\n",
    "            print(words)"
   ]
  },
  {
   "cell_type": "code",
   "execution_count": 44,
   "id": "de10172d",
   "metadata": {
    "scrolled": false
   },
   "outputs": [],
   "source": [
    "df2.to_csv('cleaned_data.csv', index=False)"
   ]
  },
  {
   "cell_type": "code",
   "execution_count": 45,
   "id": "16f9561b",
   "metadata": {},
   "outputs": [
    {
     "data": {
      "text/html": [
       "<div>\n",
       "<style scoped>\n",
       "    .dataframe tbody tr th:only-of-type {\n",
       "        vertical-align: middle;\n",
       "    }\n",
       "\n",
       "    .dataframe tbody tr th {\n",
       "        vertical-align: top;\n",
       "    }\n",
       "\n",
       "    .dataframe thead th {\n",
       "        text-align: right;\n",
       "    }\n",
       "</style>\n",
       "<table border=\"1\" class=\"dataframe\">\n",
       "  <thead>\n",
       "    <tr style=\"text-align: right;\">\n",
       "      <th></th>\n",
       "      <th>Campaign Member ID (18)</th>\n",
       "      <th>Title</th>\n",
       "      <th>Job Role</th>\n",
       "      <th>Job Function</th>\n",
       "      <th>Job Level</th>\n",
       "    </tr>\n",
       "  </thead>\n",
       "  <tbody>\n",
       "    <tr>\n",
       "      <th>0</th>\n",
       "      <td>00v0z00002h63gzAAA</td>\n",
       "      <td>PRINCIPAL CYBERSECURITY  PRIVACY</td>\n",
       "      <td>INFORMATION SECURITY</td>\n",
       "      <td>IT</td>\n",
       "      <td>MANAGER</td>\n",
       "    </tr>\n",
       "    <tr>\n",
       "      <th>1</th>\n",
       "      <td>00v0z00002t3jwQAAQ</td>\n",
       "      <td>SENIOR ENTERPRISE INFRASTRUCTURE ARCHITECT</td>\n",
       "      <td>NETWORKING</td>\n",
       "      <td>IT</td>\n",
       "      <td>CONTRIBUTOR</td>\n",
       "    </tr>\n",
       "    <tr>\n",
       "      <th>2</th>\n",
       "      <td>00v0z00002uUCK3AAO</td>\n",
       "      <td>RISK CONSULTANT</td>\n",
       "      <td>INFORMATION SECURITY</td>\n",
       "      <td>IT</td>\n",
       "      <td>CONTRIBUTOR</td>\n",
       "    </tr>\n",
       "    <tr>\n",
       "      <th>3</th>\n",
       "      <td>00v0z00002uY8mmAAC</td>\n",
       "      <td>TECHNICAL CLOUD ARCHITECT</td>\n",
       "      <td>NETWORKING</td>\n",
       "      <td>IT</td>\n",
       "      <td>CONTRIBUTOR</td>\n",
       "    </tr>\n",
       "    <tr>\n",
       "      <th>4</th>\n",
       "      <td>00v0z000037bov2AAA</td>\n",
       "      <td>SENIOR ADVANCED SYSTEMS ENGINEER</td>\n",
       "      <td>NON-ICP</td>\n",
       "      <td>ENGINEERING</td>\n",
       "      <td>CONTRIBUTOR</td>\n",
       "    </tr>\n",
       "  </tbody>\n",
       "</table>\n",
       "</div>"
      ],
      "text/plain": [
       "  Campaign Member ID (18)                                       Title  \\\n",
       "0      00v0z00002h63gzAAA            PRINCIPAL CYBERSECURITY  PRIVACY   \n",
       "1      00v0z00002t3jwQAAQ  SENIOR ENTERPRISE INFRASTRUCTURE ARCHITECT   \n",
       "2      00v0z00002uUCK3AAO                             RISK CONSULTANT   \n",
       "3      00v0z00002uY8mmAAC                   TECHNICAL CLOUD ARCHITECT   \n",
       "4      00v0z000037bov2AAA            SENIOR ADVANCED SYSTEMS ENGINEER   \n",
       "\n",
       "               Job Role Job Function    Job Level  \n",
       "0  INFORMATION SECURITY           IT      MANAGER  \n",
       "1            NETWORKING           IT  CONTRIBUTOR  \n",
       "2  INFORMATION SECURITY           IT  CONTRIBUTOR  \n",
       "3            NETWORKING           IT  CONTRIBUTOR  \n",
       "4               NON-ICP  ENGINEERING  CONTRIBUTOR  "
      ]
     },
     "execution_count": 45,
     "metadata": {},
     "output_type": "execute_result"
    }
   ],
   "source": [
    "df2.head()"
   ]
  },
  {
   "cell_type": "code",
   "execution_count": null,
   "id": "e49348cb",
   "metadata": {},
   "outputs": [],
   "source": []
  }
 ],
 "metadata": {
  "kernelspec": {
   "display_name": "Python 3",
   "language": "python",
   "name": "python3"
  },
  "language_info": {
   "codemirror_mode": {
    "name": "ipython",
    "version": 3
   },
   "file_extension": ".py",
   "mimetype": "text/x-python",
   "name": "python",
   "nbconvert_exporter": "python",
   "pygments_lexer": "ipython3",
   "version": "3.8.5"
  }
 },
 "nbformat": 4,
 "nbformat_minor": 5
}
